{
 "cells": [
  {
   "cell_type": "code",
   "execution_count": null,
   "metadata": {},
   "outputs": [],
   "source": [
    "import pickle\n",
    "import numpy as np\n",
    "import pandas as pd\n",
    "import mlflow\n",
    "import mlflow.sklearn\n",
    "from sklearn.linear_model import LogisticRegression, SGDClassifier\n",
    "from sklearn.svm import LinearSVC\n",
    "from sklearn.ensemble import RandomForestClassifier\n",
    "from sklearn.multiclass import OneVsRestClassifier\n",
    "from xgboost import XGBClassifier\n",
    "from sklearn.pipeline import Pipeline\n",
    "from sklearn.model_selection import train_test_split\n",
    "from sklearn.metrics import jaccard_score"
   ]
  },
  {
   "cell_type": "code",
   "execution_count": null,
   "metadata": {},
   "outputs": [],
   "source": [
    "# Load the TF-IDF\n",
    "with open('tfidf_vectorizer.pkl', 'rb') as file:\n",
    "    tfidf = pickle.load(file)\n",
    "\n",
    "# Load the transformed training data\n",
    "with open('X_train_tfidf.pkl', 'rb') as file:\n",
    "    X_train_tfidf = pickle.load(file)\n",
    "\n",
    "# Load the transformed testing data\n",
    "with open('X_test_tfidf.pkl', 'rb') as file:\n",
    "    X_test_tfidf = pickle.load(file)\n",
    "\n",
    "# Load the feature names\n",
    "with open('features_names_tfidf.pkl', 'rb') as file:\n",
    "    features_names_tfidf = pickle.load(file)\n",
    "\n",
    "y_train = pd.read_csv(\"C:/Users/lzeferino/Documents/GitHub/NLP-Multi-Label-Text-Classification-for-Stack-Overflow-Tag-Prediction/y_train.csv\")\n",
    "y_test = pd.read_csv(\"C:/Users/lzeferino/Documents/GitHub/NLP-Multi-Label-Text-Classification-for-Stack-Overflow-Tag-Prediction/y_test.csv\")"
   ]
  },
  {
   "cell_type": "markdown",
   "metadata": {},
   "source": [
    "## Approche supervisée classique"
   ]
  },
  {
   "cell_type": "code",
   "execution_count": 61,
   "metadata": {},
   "outputs": [],
   "source": [
    "def j_score(y_true, y_pred):\n",
    "    jaccard= np.minimum(y_true, y_pred).sum(axis=1)/np.maximum(y_true, y_pred).sum(axis=1)\n",
    "    return jaccard.mean() * 100\n",
    "\n",
    "def print_score(y_pred, clf):\n",
    "    print('clf:', clf.__class__.__name__)\n",
    "    print('Jaccard socre: {}'.format(j_score(y_test, y_pred)))\n",
    "    print('----')"
   ]
  },
  {
   "cell_type": "code",
   "execution_count": null,
   "metadata": {},
   "outputs": [],
   "source": [
    "sgd = SGDClassifier()\n",
    "lr= LogisticRegression(solver= 'lbfgs')\n",
    "svc = LinearSVC(dual=False, C=1.5, penalty='l1')\n",
    "\n",
    "for classifier in [sgd, lr, svc]:\n",
    "    clf = OneVsRestClassifier(classifier)\n",
    "    clf.fit(X_train_tfidf, y_train)\n",
    "    y_pred = clf.predict(X_test_tfidf)\n",
    "    print_score(y_pred, classifier)\n",
    "    #print(jaccard_score(y_test, y_pred, average='weighted'))"
   ]
  },
  {
   "cell_type": "code",
   "execution_count": 5,
   "metadata": {},
   "outputs": [
    {
     "name": "stderr",
     "output_type": "stream",
     "text": [
      "c:\\Users\\lzeferino\\AppData\\Local\\miniconda3\\Lib\\site-packages\\sklearn\\metrics\\_classification.py:1469: UndefinedMetricWarning: Jaccard is ill-defined and being set to 0.0 in samples with no true or predicted labels. Use `zero_division` parameter to control this behavior.\n",
      "  _warn_prf(average, modifier, msg_start, len(result))\n"
     ]
    },
    {
     "data": {
      "application/vnd.jupyter.widget-view+json": {
       "model_id": "1c7a8929b9b9430e9a446e1d30aa1484",
       "version_major": 2,
       "version_minor": 0
      },
      "text/plain": [
       "Downloading artifacts:   0%|          | 0/7 [00:00<?, ?it/s]"
      ]
     },
     "metadata": {},
     "output_type": "display_data"
    },
    {
     "name": "stdout",
     "output_type": "stream",
     "text": [
      "Model LogisticRegression - Jaccard Score: 0.2831666666666666\n"
     ]
    },
    {
     "name": "stderr",
     "output_type": "stream",
     "text": [
      "c:\\Users\\lzeferino\\AppData\\Local\\miniconda3\\Lib\\site-packages\\sklearn\\metrics\\_classification.py:1469: UndefinedMetricWarning: Jaccard is ill-defined and being set to 0.0 in samples with no true or predicted labels. Use `zero_division` parameter to control this behavior.\n",
      "  _warn_prf(average, modifier, msg_start, len(result))\n"
     ]
    },
    {
     "data": {
      "application/vnd.jupyter.widget-view+json": {
       "model_id": "f69593fa43ae4fec82882933dc0f71aa",
       "version_major": 2,
       "version_minor": 0
      },
      "text/plain": [
       "Downloading artifacts:   0%|          | 0/7 [00:00<?, ?it/s]"
      ]
     },
     "metadata": {},
     "output_type": "display_data"
    },
    {
     "name": "stdout",
     "output_type": "stream",
     "text": [
      "Model SGDClassifier - Jaccard Score: 0.37403333333333333\n"
     ]
    }
   ],
   "source": [
    "# Modèles à tester\n",
    "models = {\n",
    "    \"LogisticRegression\": LogisticRegression(max_iter=1000),\n",
    "    \"SGDClassifier\": SGDClassifier(max_iter=1000),\n",
    "    \"RandomForestClassifier\": RandomForestClassifier(),\n",
    "    \"GradientBoostingClassifier\": GradientBoostingClassifier(),\n",
    "    \"XGBClassifier\": XGBClassifier(use_label_encoder=False, eval_metric='logloss')    \n",
    "}\n",
    "\n",
    "# Commencez une nouvelle expérience MLFlow\n",
    "mlflow.set_experiment(\"Tag Suggestion Classification\")\n",
    "\n",
    "input_example = X_train_tfidf[0:1]\n",
    "\n",
    "for model_name, model in models.items():\n",
    "    with mlflow.start_run(run_name=f\"{model_name}_OneVsRest\"):\n",
    "        \n",
    "        # Construction du pipeline pour appliquer OneVsRestClassifier avec le modèle\n",
    "        pipeline = Pipeline([\n",
    "            ('classifier', OneVsRestClassifier(model))\n",
    "        ])\n",
    "\n",
    "        # Entraînement du modèle\n",
    "        pipeline.fit(X_train_tfidf, y_train)\n",
    "\n",
    "        # Prédiction sur le jeu de test\n",
    "        y_pred = pipeline.predict(X_test_tfidf)\n",
    "\n",
    "        # Calcul du score Jaccard\n",
    "        jaccard = jaccard_score(y_test, y_pred, average='samples')\n",
    "\n",
    "        # Logging dans MLFlow\n",
    "        mlflow.log_param(\"model_name\", model_name)\n",
    "        mlflow.log_metric(\"jaccard_score\", jaccard)\n",
    "\n",
    "        # Enregistrement du modèle dans MLFlow       \n",
    "        mlflow.sklearn.log_model(pipeline, artifact_path=f\"models/{model_name}\", input_example=input_example)\n",
    "\n",
    "        print(f\"Model {model_name} - Jaccard Score: {jaccard}\")\n"
   ]
  },
  {
   "cell_type": "code",
   "execution_count": null,
   "metadata": {},
   "outputs": [],
   "source": [
    "# Analyse de stabilité mensuelle\n",
    "for month in range(1, 13):\n",
    "    with mlflow.start_run(run_name=f\"Stability_Test_Month_{month}\"):\n",
    "        \n",
    "        # Partition du dataset pour chaque mois\n",
    "        X_test_month, _, y_test_month, _ = train_test_split(X_test_tfidf, y_test, test_size=0.8, random_state=month)\n",
    "\n",
    "        # Prédiction avec `predict_with_proba`\n",
    "        y_pred_month = predict_with_proba(pipeline, X_test_month)\n",
    "\n",
    "        # Calcul du jaccard score pour le mois spécifique\n",
    "        jaccard_month = jaccard_score(y_test_month, y_pred_month, average='samples')\n",
    "\n",
    "        # Logging des résultats\n",
    "        mlflow.log_param(\"month\", month)\n",
    "        mlflow.log_metric(\"jaccard_score_monthly\", jaccard_month)\n",
    "        \n",
    "        print(f\"Month {month} - Jaccard Score: {jaccard_month}\")"
   ]
  }
 ],
 "metadata": {
  "kernelspec": {
   "display_name": "base",
   "language": "python",
   "name": "python3"
  },
  "language_info": {
   "codemirror_mode": {
    "name": "ipython",
    "version": 3
   },
   "file_extension": ".py",
   "mimetype": "text/x-python",
   "name": "python",
   "nbconvert_exporter": "python",
   "pygments_lexer": "ipython3",
   "version": "3.11.7"
  }
 },
 "nbformat": 4,
 "nbformat_minor": 2
}
