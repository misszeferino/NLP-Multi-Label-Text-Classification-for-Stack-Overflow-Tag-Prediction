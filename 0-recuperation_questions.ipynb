{
 "cells": [
  {
   "cell_type": "markdown",
   "metadata": {},
   "source": [
    "# Milestone 1 : Récupération des questions de Stack Overflow - Test API"
   ]
  },
  {
   "cell_type": "code",
   "execution_count": null,
   "metadata": {},
   "outputs": [],
   "source": [
    "import requests\n",
    "import pandas as pd\n",
    "from datetime import datetime"
   ]
  },
  {
   "cell_type": "markdown",
   "metadata": {},
   "source": [
    "SELECT TOP 50000 Title, Body, Tags, Id, Score, ViewCount, AnswerCount\n",
    "FROM Posts \n",
    "WHERE PostTypeId = 1 AND ViewCount IS NOT NULL \n",
    "AND AnswerCount > 0 AND LEN(Tags) - LEN(REPLACE(Tags, '<','')) >= 5"
   ]
  },
  {
   "cell_type": "code",
   "execution_count": null,
   "metadata": {},
   "outputs": [],
   "source": [
    "# Définir les paramètres de la requête\n",
    "params = {\n",
    "    'site': 'stackoverflow',\n",
    "    'tagged': 'python',\n",
    "    'sort': 'votes',\n",
    "    'order': 'desc',\n",
    "    'pagesize': 50,\n",
    "    'min': 50,  # score minimum\n",
    "    'filter': 'default'\n",
    "}\n",
    "\n",
    "# Envoyer la requête à l'API\n",
    "response = requests.get(\"https://api.stackexchange.com/2.3/questions\", params=params)\n",
    "data = response.json()\n",
    "\n",
    "# Extraire les données principales et les convertir en DataFrame\n",
    "questions = [\n",
    "    {\n",
    "        'date': datetime.fromtimestamp(item['creation_date']).strftime('%Y-%m-%d %H:%M:%S'),\n",
    "        'title': item['title'],\n",
    "        'tags': item['tags'],\n",
    "        'score': item['score']\n",
    "    }\n",
    "    for item in data['items']\n",
    "]\n",
    "\n",
    "df = pd.DataFrame(questions)\n",
    "\n",
    "# Afficher le DataFrame\n",
    "print(df)\n"
   ]
  }
 ],
 "metadata": {
  "kernelspec": {
   "display_name": "base",
   "language": "python",
   "name": "python3"
  },
  "language_info": {
   "name": "python",
   "version": "3.11.7"
  }
 },
 "nbformat": 4,
 "nbformat_minor": 2
}
