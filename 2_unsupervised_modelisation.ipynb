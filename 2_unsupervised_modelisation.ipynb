{
 "cells": [
  {
   "cell_type": "code",
   "execution_count": null,
   "metadata": {},
   "outputs": [],
   "source": [
    "import pickle\n",
    "\n",
    "# Load the TfidfVectorizer\n",
    "with open('tfidf_vectorizer.pkl', 'rb') as file:\n",
    "    tfidf = pickle.load(file)\n",
    "\n",
    "# Load the transformed training data\n",
    "with open('X_train_tfidf.pkl', 'rb') as file:\n",
    "    X_train_tfidf = pickle.load(file)\n",
    "\n",
    "# Load the transformed testing data\n",
    "with open('X_test_tfidf.pkl', 'rb') as file:\n",
    "    X_test_tfidf = pickle.load(file)\n",
    "\n",
    "# Load the feature names\n",
    "with open('features_names_tfidf.pkl', 'rb') as file:\n",
    "    features_names_tfidf = pickle.load(file)"
   ]
  },
  {
   "cell_type": "code",
   "execution_count": null,
   "metadata": {},
   "outputs": [],
   "source": [
    "from sklearn.decomposition import LatentDirichletAllocation\n",
    "\n",
    "# Initialize the LDA model\n",
    "lda = LatentDirichletAllocation(n_components=10, random_state=0)  # Set the number of topics\n",
    "\n",
    "# Fit the LDA model using the training data\n",
    "lda.fit(X_train_tfidf)\n",
    "\n",
    "# Transform the training data to LDA topic-space\n",
    "X_train_lda = lda.transform(X_train_tfidf)\n",
    "\n",
    "# Transform the testing data to LDA topic-space\n",
    "X_test_lda = lda.transform(X_test_tfidf)"
   ]
  },
  {
   "cell_type": "code",
   "execution_count": null,
   "metadata": {},
   "outputs": [],
   "source": [
    "# Function to display the top words in each topic\n",
    "def display_topics(model, feature_names, no_top_words):\n",
    "    for topic_idx, topic in enumerate(model.components_):\n",
    "        print(f\"Topic {topic_idx + 1}:\")\n",
    "        print(\" \".join([feature_names[i] for i in topic.argsort()[:-no_top_words - 1:-1]]))\n",
    "\n",
    "# Display the top 10 words for each topic\n",
    "display_topics(lda, features_names_tfidf, 10)\n"
   ]
  }
 ],
 "metadata": {
  "language_info": {
   "name": "python"
  }
 },
 "nbformat": 4,
 "nbformat_minor": 2
}
